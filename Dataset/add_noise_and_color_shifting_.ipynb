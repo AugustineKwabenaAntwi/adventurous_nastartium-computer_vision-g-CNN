{
  "nbformat": 4,
  "nbformat_minor": 0,
  "metadata": {
    "colab": {
      "provenance": []
    },
    "kernelspec": {
      "name": "python3",
      "display_name": "Python 3"
    },
    "language_info": {
      "name": "python"
    }
  },
  "cells": [
    {
      "cell_type": "code",
      "execution_count": null,
      "metadata": {
        "id": "Mug5MWmEjEPn"
      },
      "outputs": [],
      "source": [
        "import cv2\n",
        "# Read image\n",
        "img = cv2.imread('/content/images _text.png')"
      ]
    },
    {
      "cell_type": "markdown",
      "source": [
        "# **color shifting** (you can change the color if you want)\n",
        "\n",
        "\n"
      ],
      "metadata": {
        "id": "SoGK2IhkjrEI"
      }
    },
    {
      "cell_type": "code",
      "source": [
        "import numpy as np\n",
        "\n",
        "# Convert to LAB color space\n",
        "lab = cv2.cvtColor(img, cv2.COLOR_BGR2LAB)\n",
        "\n",
        "# Split channels\n",
        "l, a, b = cv2.split(lab)\n",
        "\n",
        "# Shift b channel\n",
        "#b = cv2.add(b,10)  # It can return blue\n",
        "#shift a channel\n",
        "a=cv2.add(a,130) # I convert the image to pink\n",
        "# Clip a channel values\n",
        "a = np.clip(a, 0, 255)\n",
        "\n",
        "lab_shifted = cv2.merge((l,a,b))\n",
        "\n",
        "# Convert back to BGR\n",
        "bgr_shifted = cv2.cvtColor(lab_shifted, cv2.COLOR_LAB2BGR)\n",
        "plt.imshow(bgr_shifted)"
      ],
      "metadata": {
        "id": "nMz3cjexkBVm"
      },
      "execution_count": null,
      "outputs": []
    },
    {
      "cell_type": "code",
      "source": [],
      "metadata": {
        "id": "dzoz3a_-kdzV"
      },
      "execution_count": null,
      "outputs": []
    },
    {
      "cell_type": "markdown",
      "source": [
        "# **add salt & pepper noise**(each of them you want)"
      ],
      "metadata": {
        "id": "odyia10QkeuF"
      }
    },
    {
      "cell_type": "markdown",
      "source": [],
      "metadata": {
        "id": "CxJMECDFkemH"
      }
    },
    {
      "cell_type": "code",
      "source": [
        "import cv2\n",
        "\n",
        "# Read image\n",
        "img = cv2.imread('/content/images _text.png')"
      ],
      "metadata": {
        "id": "vUTs2TTlksVl"
      },
      "execution_count": null,
      "outputs": []
    },
    {
      "cell_type": "markdown",
      "source": [
        "**salt and pepper noise**"
      ],
      "metadata": {
        "id": "Clrr14YCk2Wb"
      }
    },
    {
      "cell_type": "markdown",
      "source": [],
      "metadata": {
        "id": "0W2Nv663k2Qx"
      }
    },
    {
      "cell_type": "code",
      "source": [
        "import random\n",
        "import cv2\n",
        "\n",
        "def add_noise(image):\n",
        "\n",
        "\n",
        "\trow , col,_ = image.shape\n",
        "\n",
        "\t# Randomly pick some pixels in the\n",
        "\t# image for coloring them white\n",
        "\t# Pick a random number between 300 and 10000\n",
        "\tnumber_of_pixels = random.randint(300, 10000)\n",
        "\tfor i in range(number_of_pixels):\n",
        "\n",
        "\t\t# Pick a random y coordinate\n",
        "\t\ty_coord=random.randint(0, row - 1)\n",
        "\n",
        "\t\t# Pick a random x coordinate\n",
        "\t\tx_coord=random.randint(0, col - 1)\n",
        "\n",
        "\t\t# Color that pixel to white\n",
        "\t\timage[y_coord][x_coord] = 255\n",
        "\n",
        "\n",
        "\tnumber_of_pixels = random.randint(300 , 10000)\n",
        "\tfor i in range(number_of_pixels):\n",
        "\n",
        "\n",
        "\t\ty_coord=random.randint(0, row - 1)\n",
        "\n",
        "\t\tx_coord=random.randint(0, col - 1)\n",
        "\n",
        "\t\timg[y_coord][x_coord] = 0\n",
        "\n",
        "\treturn image\n",
        "\n",
        "# salt-and-pepper noise can\n",
        "# be applied only to grayscale images\n",
        "\n",
        "#Storing the image\n",
        "noisy_img_saltpepper=add_noise(img)\n",
        "# cv2.imwrite('salt-and-pepper-lena.jpg',\n",
        "# \t\t\tadd_noise(img))\n"
      ],
      "metadata": {
        "id": "23qthhR3Qabq",
        "colab": {
          "base_uri": "https://localhost:8080/"
        },
        "outputId": "a706f1b5-95ce-4696-a23e-8ff2692438e6"
      },
      "execution_count": null,
      "outputs": [
        {
          "output_type": "execute_result",
          "data": {
            "text/plain": [
              "True"
            ]
          },
          "metadata": {},
          "execution_count": 86
        }
      ]
    },
    {
      "cell_type": "markdown",
      "source": [
        "**just pepper noise**"
      ],
      "metadata": {
        "id": "YmGsqR0hlRRo"
      }
    },
    {
      "cell_type": "code",
      "source": [
        "import cv2\n",
        "\n",
        "# Read image\n",
        "img2 = cv2.imread('/content/images _text.png')"
      ],
      "metadata": {
        "id": "61vpQsSTlQm6"
      },
      "execution_count": null,
      "outputs": []
    },
    {
      "cell_type": "code",
      "source": [
        "import random\n",
        "\n",
        "def add_noise(image):\n",
        "\n",
        "\trow , col,_ = image.shape\n",
        "\n",
        "\t# Randomly pick some pixels in\n",
        "\t# the image for coloring them black\n",
        "\t# Pick a random number between 300 and 10000\n",
        "\tnumber_of_pixels = random.randint(300 , 10000)\n",
        "\tfor i in range(number_of_pixels):\n",
        "\n",
        "\t\t# Pick a random y coordinate\n",
        "\t\ty_coord=random.randint(0, row - 1)\n",
        "\n",
        "\t\t# Pick a random x coordinate\n",
        "\t\tx_coord=random.randint(0, col - 1)\n",
        "\n",
        "\t\t# Color that pixel to black\n",
        "\t\timage[y_coord][x_coord] = 0\n",
        "\n",
        "\treturn image\n",
        "\n",
        "noisy_img_pepper=add_noise(img2)\n",
        "\n"
      ],
      "metadata": {
        "id": "7agq6tROGge4"
      },
      "execution_count": null,
      "outputs": []
    },
    {
      "cell_type": "markdown",
      "source": [
        "**white noise(salt noise)**"
      ],
      "metadata": {
        "id": "qyarz_ljmATG"
      }
    },
    {
      "cell_type": "markdown",
      "source": [],
      "metadata": {
        "id": "qCeP55vml2L6"
      }
    },
    {
      "cell_type": "code",
      "source": [
        "import cv2\n",
        "# Read image\n",
        "img3 = cv2.imread('/content/images _text.png')"
      ],
      "metadata": {
        "id": "Bhxuu2P-mGIV"
      },
      "execution_count": null,
      "outputs": []
    },
    {
      "cell_type": "code",
      "source": [
        "import random\n",
        "import cv2\n",
        "\n",
        "def add_noise(image):\n",
        "\n",
        "\trow , col,_ = image.shape\n",
        "\n",
        "\tnumber_of_pixels = random.randint(300, 50000) # you can change it if you want\n",
        "\tfor i in range(number_of_pixels):\n",
        "\n",
        "\t\t# Pick a random y coordinate\n",
        "\t\ty_coord=random.randint(0, row - 1)\n",
        "\n",
        "\t\t# Pick a random x coordinate\n",
        "\t\tx_coord=random.randint(0, col - 1)\n",
        "\n",
        "\t\t# Color that pixel to white\n",
        "\t\timage[y_coord][x_coord] = 255\n",
        "\n",
        "\treturn image\n",
        "\n",
        "noisy_img_salt=add_noise(img3)\n",
        "\n"
      ],
      "metadata": {
        "id": "aaaFO5-ZGgU_"
      },
      "execution_count": null,
      "outputs": []
    },
    {
      "cell_type": "code",
      "source": [
        "import matplotlib.pyplot as plt\n",
        "fig,ax = plt.subplots(3,1,figsize=(10,10))\n",
        "ax[0].imshow(noisy_img_saltpepper)\n",
        "ax[0].set_title(\"salt & pepper noise\")\n",
        "\n",
        "ax[1].imshow(noisy_img_pepper)\n",
        "ax[1].set_title(\"pepper noise\")\n",
        "\n",
        "ax[2].imshow(noisy_img_salt)\n",
        "ax[2].set_title(\"salt noise\")"
      ],
      "metadata": {
        "id": "o3Bire3smhDb"
      },
      "execution_count": null,
      "outputs": []
    }
  ]
}