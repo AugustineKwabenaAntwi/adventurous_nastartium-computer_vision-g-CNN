{
 "cells": [
  {
   "cell_type": "code",
   "execution_count": 1,
   "metadata": {
    "id": "3LcC586wdnUP"
   },
   "outputs": [
    {
     "name": "stdout",
     "output_type": "stream",
     "text": [
      "2.3.1+cu118\n",
      "0.18.1+cu118\n"
     ]
    }
   ],
   "source": [
    "# Imports\n",
    "import pathlib\n",
    "import csv\n",
    "import os\n",
    "import cv2\n",
    "\n",
    "import random\n",
    "import numpy as np\n",
    "import tqdm\n",
    "#from tqdm.auto import tqdm\n",
    "from PIL import Image, ImageEnhance\n",
    "\n",
    "#from IPython.display import display\n",
    "import IPython\n",
    "import matplotlib.pyplot as plt\n",
    "\n",
    "import torch\n",
    "import torch.nn as nn\n",
    "import torchvision\n",
    "#import torch.optim as optim\n",
    "\n",
    "#from torchvision.utils import make_grid\n",
    "import torchvision.transforms as transforms\n",
    "#from torchvision.datasets import ImageFolder\n",
    "from torch.utils.data import DataLoader, TensorDataset\n",
    "from torchvision.transforms import Lambda\n",
    "\n",
    "print(torch.__version__)\n",
    "print(torchvision.__version__)"
   ]
  },
  {
   "cell_type": "code",
   "execution_count": 2,
   "metadata": {
    "id": "oUz2W0vRd-DH"
   },
   "outputs": [],
   "source": [
    "# @markdown `shuffle-spli and dataset constructor`\n",
    "def shuffle_and_split_data(X, y, seed, split_percent=0.2):\n",
    "  \"\"\"\n",
    "  Helper function to shuffle and split data, yoinked from W1D3 tutorial\n",
    "\n",
    "  Args:\n",
    "    X: torch.tensor\n",
    "      Input data\n",
    "    y: torch.tensor\n",
    "      Corresponding target variables\n",
    "    seed: int\n",
    "      Set seed for reproducibility\n",
    "\n",
    "  Returns:\n",
    "    X_test: torch.tensor\n",
    "      Test data [20% of X]\n",
    "    y_test: torch.tensor\n",
    "      Labels corresponding to above mentioned test data\n",
    "    X_train: torch.tensor\n",
    "      Train data [80% of X]\n",
    "    y_train: torch.tensor\n",
    "      Labels corresponding to above mentioned train data\n",
    "  \"\"\"\n",
    "  # Set seed for reproducibility\n",
    "  torch.manual_seed(seed)\n",
    "  # Number of samples\n",
    "  N = X.shape[0]\n",
    "  # Shuffle data\n",
    "  shuffled_indices = torch.randperm(N)   # Get indices to shuffle data, could use torch.randperm\n",
    "  X = X[shuffled_indices]\n",
    "  y = y[shuffled_indices]\n",
    "\n",
    "  # Split data into train/test\n",
    "  test_size = int(split_percent * N)    # Assign test datset size using split_percent*100% of samples\n",
    "  X_test = X[:test_size]\n",
    "  y_test = y[:test_size]\n",
    "  X_train = X[test_size:]\n",
    "  y_train = y[test_size:]\n",
    "\n",
    "  return X_test, y_test, X_train, y_train"
   ]
  },
  {
   "cell_type": "code",
   "execution_count": 3,
   "metadata": {},
   "outputs": [],
   "source": [
    "# @title Set random seed\n",
    "\n",
    "# @markdown Executing `set_seed(seed=seed)` you are setting the seed\n",
    "\n",
    "# For DL its critical to set the random seed so that students can have a\n",
    "# baseline to compare their results to expected results.\n",
    "# Read more here: https://pytorch.org/docs/stable/notes/randomness.html\n",
    "\n",
    "# Call `set_seed` function in the exercises to ensure reproducibility.\n",
    "\n",
    "def set_seed(seed=None, seed_torch=True):\n",
    "  \"\"\"\n",
    "  Function that controls randomness. NumPy and random modules must be imported.\n",
    "\n",
    "  Args:\n",
    "    seed : Integer\n",
    "      A non-negative integer that defines the random state. Default is `None`.\n",
    "    seed_torch : Boolean\n",
    "      If `True` sets the random seed for pytorch tensors, so pytorch module\n",
    "      must be imported. Default is `True`.\n",
    "\n",
    "  Returns:\n",
    "    Nothing.\n",
    "  \"\"\"\n",
    "  if seed is None:\n",
    "    seed = np.random.choice(2 ** 32)\n",
    "  random.seed(seed)\n",
    "  np.random.seed(seed)\n",
    "  if seed_torch:\n",
    "    torch.manual_seed(seed)\n",
    "    torch.cuda.manual_seed_all(seed)\n",
    "    torch.cuda.manual_seed(seed)\n",
    "    torch.backends.cudnn.benchmark = False\n",
    "    torch.backends.cudnn.deterministic = True\n",
    "\n",
    "  print(f'Random seed {seed} has been set.')\n",
    "\n",
    "\n",
    "# In case that `DataLoader` is used\n",
    "def seed_worker(worker_id):\n",
    "  \"\"\"\n",
    "  DataLoader will reseed workers following randomness in\n",
    "  multi-process data loading algorithm.\n",
    "\n",
    "  Args:\n",
    "    worker_id: integer\n",
    "      ID of subprocess to seed. 0 means that\n",
    "      the data will be loaded in the main process\n",
    "      Refer: https://pytorch.org/docs/stable/data.html#data-loading-randomness for more details\n",
    "\n",
    "  Returns:\n",
    "    Nothing\n",
    "  \"\"\"\n",
    "  worker_seed = torch.initial_seed() % 2**32\n",
    "  np.random.seed(worker_seed)\n",
    "  random.seed(worker_seed)"
   ]
  },
  {
   "cell_type": "code",
   "execution_count": 4,
   "metadata": {},
   "outputs": [],
   "source": [
    "# @title Set device (GPU or CPU). Execute `set_device()`\n",
    "# especially if torch modules used.\n",
    "\n",
    "# Inform the user if the notebook uses GPU or CPU.\n",
    "# NOTE: This is mostly a GPU free tutorial.\n",
    "\n",
    "def set_device():\n",
    "  \"\"\"\n",
    "  Set the device. CUDA if available, CPU otherwise\n",
    "\n",
    "  Args:\n",
    "    None\n",
    "\n",
    "  Returns:\n",
    "    Nothing\n",
    "  \"\"\"\n",
    "  device = \"cuda\" if torch.cuda.is_available() else \"cpu\"\n",
    "  if device != \"cuda\":\n",
    "    print(\"GPU is not enabled in this notebook.\")\n",
    "  else:\n",
    "    print(\"GPU is enabled in this notebook.\")\n",
    "\n",
    "  return device"
   ]
  },
  {
   "cell_type": "code",
   "execution_count": 5,
   "metadata": {
    "id": "FK7a8B7xXpWI"
   },
   "outputs": [],
   "source": [
    "# Corruption functions\n",
    "def add_salt_and_pepper_noise(image):\n",
    "    row, col, _ = image.shape\n",
    "    number_of_pixels = random.randint(300, 10000)\n",
    "    for _ in range(number_of_pixels):\n",
    "        y_coord = random.randint(0, row - 1)\n",
    "        x_coord = random.randint(0, col - 1)\n",
    "        image[y_coord, x_coord] = 255\n",
    "    number_of_pixels = random.randint(300, 10000)\n",
    "    for _ in range(number_of_pixels):\n",
    "        y_coord = random.randint(0, row - 1)\n",
    "        x_coord = random.randint(0, col - 1)\n",
    "        image[y_coord, x_coord] = 0\n",
    "    return image\n",
    "\n",
    "def add_pepper_noise(image):\n",
    "    row, col, _ = image.shape\n",
    "    number_of_pixels = random.randint(300, 10000)\n",
    "    for _ in range(number_of_pixels):\n",
    "        y_coord = random.randint(0, row - 1)\n",
    "        x_coord = random.randint(0, col - 1)\n",
    "        image[y_coord, x_coord] = 0\n",
    "    return image\n",
    "\n",
    "def add_salt_noise(image):\n",
    "    row, col, _ = image.shape\n",
    "    number_of_pixels = random.randint(300, 50000)\n",
    "    for _ in range(number_of_pixels):\n",
    "        y_coord = random.randint(0, row - 1)\n",
    "        x_coord = random.randint(0, col - 1)\n",
    "        image[y_coord, x_coord] = 255\n",
    "    return image\n",
    "\n",
    "def color_shift(image):\n",
    "    img = np.array(image)\n",
    "    h, w, c = img.shape\n",
    "    rand_h = random.uniform(-0.2, 0.2)\n",
    "    rand_s = random.uniform(0.8, 1.2)\n",
    "    rand_v = random.uniform(0.8, 1.2)\n",
    "    cs_matrix = np.array([[rand_h, .2, 0.4], [0, rand_s, .6], [0.7, 0, rand_v]])\n",
    "    cs_matrix = np.clip(cs_matrix.astype(int), 0, 255)\n",
    "    shifted = np.apply_along_axis(lambda a: cs_matrix.dot(a), 2, img)\n",
    "    return Image.fromarray(shifted.astype(np.uint8))\n",
    "\n",
    "def adjust_contrast(image_path):\n",
    "    image = cv2.imread(image_path)\n",
    "    image_rgb = cv2.cvtColor(image, cv2.COLOR_BGR2RGB)\n",
    "    Y = cv2.cvtColor(image, cv2.COLOR_BGR2YUV)[:, :, 0]\n",
    "    min_val = np.min(Y)\n",
    "    max_val = np.max(Y)\n",
    "    brightness = (max_val + min_val) / 2\n",
    "    contrast = (max_val - min_val) / (max_val + min_val)\n",
    "    brightness = brightness\n",
    "    contrast = random.uniform(0.2, 3)\n",
    "    image2 = cv2.convertScaleAbs(image_rgb, alpha=contrast, beta=brightness)\n",
    "    return image2\n",
    "\n",
    "# Function to apply selected corruption\n",
    "def apply_corruption(image, corruption_type):\n",
    "    if corruption_type == 'salt_and_pepper':\n",
    "        return add_salt_and_pepper_noise(image)\n",
    "    elif corruption_type == 'pepper':\n",
    "        return add_pepper_noise(image)\n",
    "    elif corruption_type == 'salt':\n",
    "        return add_salt_noise(image)\n",
    "    elif corruption_type == 'color_shift':\n",
    "        return color_shift(image)\n",
    "    elif corruption_type == 'adjust_contrast':\n",
    "        return adjust_contrast(image)\n",
    "    else:\n",
    "        return image"
   ]
  },
  {
   "cell_type": "code",
   "execution_count": 6,
   "metadata": {},
   "outputs": [],
   "source": [
    "def get_datasets(images_pathfull, image_name_prefix, CSVlabels_pathfull, N_samples, percent_test, percent_valid, \n",
    "                 transform=None, corruption_type=None):\n",
    "    \"\"\"\n",
    "    Helper function to get train, test, and validation datasets, do note that the images come out rescaled to [0,1]\n",
    "\n",
    "    Args:\n",
    "        images_pathfull: string\n",
    "            path to the folder that includes all the images\n",
    "        image_name_prefix: string\n",
    "            the first part of the image name, with full filename being image_name_prefix+\"INTEGER\"+\".png\"\n",
    "        CSVlabels_pathfull: string\n",
    "            path to a .CSV file that includes all the labels\n",
    "        N_samples: integer\n",
    "            total number of samples to procure\n",
    "        transform: torch.transform\n",
    "            additional transformations to apply to images\n",
    "        percent_test: float\n",
    "            ratio of N_samples to be moved to test dataset, test dataset size is N_samples*percent_test\n",
    "        percent_valid: float\n",
    "            ratio of N_samples to be moved to valid dataset, valid dataset size is N_samples*percent_valid\n",
    "\n",
    "    Returns:\n",
    "        train_data: torch.TensorDataset\n",
    "            train data, comes out shuffled, total number of samples = N_samples*(1-percent_test-percent_valid)\n",
    "        test_data: torch.TensorDataset\n",
    "            test data, comes out shuffled, total number of samples = N_samples*percent_test\n",
    "        valid_data: torch.TensorDataset\n",
    "            validation data, comes out shuffled, total number of samples = N_samples*percent_valid\n",
    "    \"\"\"\n",
    "    #LABELS...\n",
    "    #load the labels\n",
    "    with open(CSVlabels_pathfull, newline='') as csvfile:\n",
    "        CSVlabels = list(csv.reader(csvfile))\n",
    "    assert len(CSVlabels) >= N_samples\n",
    "    shuffled_indices = torch.randperm(int(len(CSVlabels)))[:N_samples]\n",
    "    labels = [CSVlabels[i] for i in shuffled_indices]\n",
    "    string_size = len(labels[0][0])\n",
    "    np_labels = np.empty((1, string_size))\n",
    "    for dat in labels:\n",
    "        i = 0\n",
    "        temp = np.empty((1, string_size))\n",
    "        for char in dat[0]:\n",
    "            score = 4 * (ord(char) - 96)\n",
    "            if score == -256: score = -10\n",
    "            temp[0, i] = score/104\n",
    "            #temp[0, i] = score/10.4\n",
    "            i += 1\n",
    "        np_labels = np.vstack((np_labels, temp))\n",
    "    np_labels = np_labels[1:, :]\n",
    "    totensor_trans = transforms.ToTensor()\n",
    "    y_tensor = totensor_trans(np_labels)[0].float()\n",
    "\n",
    "    trans_to_img = transforms.PILToTensor()\n",
    "    im = Image.open(os.path.join(images_pathfull, image_name_prefix + f\"{shuffled_indices[0]+1}.png\"))\n",
    "    im_tensor = 1. - trans_to_img(im).float() / 255. #scaled outs\n",
    "    #im_tensor = trans_to_img(im).float() #no scaling!\n",
    "    #im_tensor = torch.unsqueeze(im_tensor, 0)  # Add batch dimension\n",
    "    \n",
    "    for i in shuffled_indices[1:]:\n",
    "        im = Image.open(os.path.join(images_pathfull, image_name_prefix + f\"{i+1}.png\"))\n",
    "        im_tensor = torch.cat((im_tensor, 1.-trans_to_img(im).float()/255. ),0) #scaled outs\n",
    "        #im_tensor = torch.cat((im_tensor, trans_to_img(im).float() ),0) #no scaling!\n",
    "    #apply additional transform is speficied\n",
    "    if transform != None: im_tensor=transform(im_tensor)\n",
    "    \n",
    "    if corruption_type:\n",
    "        corrupted_images = []\n",
    "        for img in im_tensor:\n",
    "            corrupted_image = apply_corruption(img.numpy().transpose(1, 2, 0), corruption_type)\n",
    "            corrupted_images.append(trans_to_img(Image.fromarray(corrupted_image.astype(np.uint8))).float() / 255.)\n",
    "        im_tensor = torch.stack(corrupted_images)\n",
    "\n",
    "    #shuffle and split our data\n",
    "    X_test,  y_test,  X_train, y_train = shuffle_and_split_data(X=im_tensor, y=y_tensor, seed=SEED, split_percent=percent_test)\n",
    "    X_valid, y_valid, X_train, y_train = shuffle_and_split_data(X=X_train, y=y_train, seed=SEED, split_percent=percent_valid / (1 - percent_test))\n",
    "\n",
    "    print(f\"train: {X_train.shape} {y_train.shape}\\n test: {X_test.shape} {y_test.shape}\\n vlid: {X_valid.shape} {y_valid.shape}\\n \")\n",
    "    test_data = TensorDataset(X_test, y_test)\n",
    "    train_data = TensorDataset(X_train, y_train)\n",
    "    valid_data = TensorDataset(X_valid, y_valid)\n",
    "\n",
    "    return train_data, test_data, valid_data"
   ]
  },
  {
   "cell_type": "code",
   "execution_count": 7,
   "metadata": {},
   "outputs": [
    {
     "name": "stdout",
     "output_type": "stream",
     "text": [
      "Random seed 2021 has been set.\n",
      "GPU is enabled in this notebook.\n"
     ]
    }
   ],
   "source": [
    "SEED = 2021\n",
    "set_seed(seed=SEED)\n",
    "DEVICE = set_device()"
   ]
  },
  {
   "cell_type": "code",
   "execution_count": 8,
   "metadata": {},
   "outputs": [
    {
     "name": "stdout",
     "output_type": "stream",
     "text": [
      "train: torch.Size([6375, 56, 256]) torch.Size([6375, 10])\n",
      " test: torch.Size([750, 56, 256]) torch.Size([750, 10])\n",
      " vlid: torch.Size([375, 56, 256]) torch.Size([375, 10])\n",
      " \n"
     ]
    }
   ],
   "source": [
    "# Usage example\n",
    "\n",
    "train_data, test_data, valid_data = get_datasets(\n",
    "    images_pathfull=\"/home/workstation319/Desktop/python/NMA_codes_n_stuffs/project/datasets/ocr_dataset\",\n",
    "    image_name_prefix=\"\",\n",
    "    CSVlabels_pathfull=\"/home/workstation319/Desktop/python/NMA_codes_n_stuffs/project/datasets/ocr_dataset/labels2.csv\",\n",
    "    N_samples=int(7.5e3),\n",
    "    percent_test=0.1,\n",
    "    percent_valid=0.05,\n",
    "    transform=None,\n",
    "    corruption_type= None #\"salt_and_pepper\"  # Choose the corruption type here\n",
    ")\n",
    "\n",
    "\n",
    "# we should be able to use predefined torch dataloader:\n",
    "batch_size = 512\n",
    "g_seed = torch.Generator()\n",
    "g_seed.manual_seed(SEED)\n",
    "\n",
    "train_loader = DataLoader(train_data,\n",
    "                          batch_size=batch_size,\n",
    "                          drop_last=True,\n",
    "                          shuffle=True,\n",
    "                          worker_init_fn=seed_worker,\n",
    "                          generator=g_seed\n",
    "                          )\n",
    "test_loader = DataLoader(test_data,\n",
    "                          batch_size=int(len(test_data)/2),\n",
    "                          drop_last=True,\n",
    "                          shuffle=True,\n",
    "                          worker_init_fn=seed_worker,\n",
    "                          generator=g_seed\n",
    "                          )\n",
    "valid_loader = DataLoader(valid_data,\n",
    "                          batch_size=int(len(valid_data)/2),\n",
    "                          drop_last=True,\n",
    "                          shuffle=True,\n",
    "                          worker_init_fn=seed_worker,\n",
    "                          generator=g_seed\n",
    "                          )"
   ]
  },
  {
   "cell_type": "code",
   "execution_count": 9,
   "metadata": {},
   "outputs": [
    {
     "data": {
      "text/plain": [
       "<torch.utils.data.dataset.TensorDataset at 0x7f2a2891b730>"
      ]
     },
     "execution_count": 9,
     "metadata": {},
     "output_type": "execute_result"
    }
   ],
   "source": [
    "test_data"
   ]
  },
  {
   "cell_type": "code",
   "execution_count": 10,
   "metadata": {},
   "outputs": [
    {
     "data": {
      "text/plain": [
       "<torch.utils.data.dataloader.DataLoader at 0x7f2b2c364ca0>"
      ]
     },
     "execution_count": 10,
     "metadata": {},
     "output_type": "execute_result"
    }
   ],
   "source": [
    "valid_loader"
   ]
  },
  {
   "cell_type": "code",
   "execution_count": 11,
   "metadata": {},
   "outputs": [
    {
     "data": {
      "image/png": "[encoded data removed]",
      "text/plain": [
       "<Figure size 640x480 with 1 Axes>"
      ]
     },
     "metadata": {},
     "output_type": "display_data"
    },
    {
     "name": "stdout",
     "output_type": "stream",
     "text": [
      "ccqjfsyhix\n",
      "\n"
     ]
    }
   ],
   "source": [
    "N=5\n",
    "#img, label = next(iter(train_loader))\n",
    "#img, label = next(iter(test_loader))\n",
    "img, label = next(iter(valid_loader))\n",
    "plt.imshow(img[N])\n",
    "plt.show()\n",
    "for a in label[N]:\n",
    "    #print(a, end=\"\")\n",
    "    if a == -10/104:\n",
    "        print(\" \", end=\"\")\n",
    "    else:\n",
    "        print(chr(int(a*104/4+96)), end=\"\")\n",
    "        #print(chr(int(a*10.4/4+96)), end=\"\")\n",
    "    #print(float(a))\n",
    "print(\"\\n\")\n",
    "#4 * (ord(char) - 96)"
   ]
  },
  {
   "cell_type": "code",
   "execution_count": 12,
   "metadata": {},
   "outputs": [
    {
     "ename": "NotImplementedError",
     "evalue": "Halt before model",
     "output_type": "error",
     "traceback": [
      "\u001b[0;31m---------------------------------------------------------------------------\u001b[0m",
      "\u001b[0;31mNotImplementedError\u001b[0m                       Traceback (most recent call last)",
      "Cell \u001b[0;32mIn[12], line 1\u001b[0m\n\u001b[0;32m----> 1\u001b[0m \u001b[38;5;28;01mraise\u001b[39;00m \u001b[38;5;167;01mNotImplementedError\u001b[39;00m(\u001b[38;5;124m\"\u001b[39m\u001b[38;5;124mHalt before model\u001b[39m\u001b[38;5;124m\"\u001b[39m)\n",
      "\u001b[0;31mNotImplementedError\u001b[0m: Halt before model"
     ]
    }
   ],
   "source": [
    "raise NotImplementedError(\"Halt before model\")"
   ]
  },
  {
   "cell_type": "code",
   "execution_count": 13,
   "metadata": {},
   "outputs": [],
   "source": [
    "try:\n",
    "    from going_modular.going_modular import data_setup, engine\n",
    "except:\n",
    "    # Get the going_modular scripts\n",
    "    print(\"[INFO] Couldn't find going_modular or helper_functions scripts... downloading them from GitHub.\")\n",
    "    !git clone https://github.com/mrdbourke/pytorch-deep-learning\n",
    "    !mv pytorch-deep-learning/going_modular .\n",
    "    from going_modular.going_modular import data_setup, engine"
   ]
  },
  {
   "cell_type": "code",
   "execution_count": 14,
   "metadata": {},
   "outputs": [],
   "source": [
    "# 1. Get pretrained weights for ViT-Base\n",
    "pretrained_vit_weights = torchvision.models.ViT_B_16_Weights.DEFAULT # requires torchvision >= 0.13, \"DEFAULT\" means best available\n",
    "\n",
    "# 2. Setup a ViT model instance with pretrained weights\n",
    "pretrained_vit = torchvision.models.vit_b_16(weights=pretrained_vit_weights).to(DEVICE)\n",
    "\n",
    "# 3. Freeze the base parameters\n",
    "for parameter in pretrained_vit.parameters():\n",
    "    parameter.requires_grad = False\n",
    "\n",
    "# 4. Change the classifier head (set the seeds to ensure same initialization with linear head)\n",
    "# set_seeds(42)\n",
    "pretrained_vit.heads = nn.Linear(in_features=768, out_features=10).to(DEVICE)\n",
    "# pretrained_vit # uncomment for model output"
   ]
  },
  {
   "cell_type": "code",
   "execution_count": null,
   "metadata": {},
   "outputs": [],
   "source": [
    "# from torchsummary import summary\n",
    "# summary(pretrained_vit, (1,3,224,224))"
   ]
  },
  {
   "cell_type": "code",
   "execution_count": null,
   "metadata": {},
   "outputs": [
    {
     "name": "stderr",
     "output_type": "stream",
     "text": [
      " 75%|██████████████████████████████████████████████████████████████████████████████████████████████████▎                                | 30/40 [37:56<12:41, 76.17s/it]"
     ]
    },
    {
     "name": "stdout",
     "output_type": "stream",
     "text": [
      " previous epoch loss = 3.1877733170986176\n",
      " previous epoch valid loss = 0.5549135506153107\n",
      "tensor(0.2686, device='cuda:0', grad_fn=<AddBackward0>)\n",
      "tensor(0.2741, device='cuda:0', grad_fn=<AddBackward0>)\n",
      "tensor(0.3042, device='cuda:0', grad_fn=<AddBackward0>)\n",
      "tensor(0.2600, device='cuda:0', grad_fn=<AddBackward0>)\n",
      "tensor(0.2668, device='cuda:0', grad_fn=<AddBackward0>)\n",
      "tensor(0.2851, device='cuda:0', grad_fn=<AddBackward0>)\n",
      "tensor(0.2540, device='cuda:0', grad_fn=<AddBackward0>)\n",
      "tensor(0.2635, device='cuda:0', grad_fn=<AddBackward0>)\n",
      "tensor(0.2762, device='cuda:0', grad_fn=<AddBackward0>)\n"
     ]
    }
   ],
   "source": [
    "# optimizer = torch.optim.Adam(params=pretrained_vit.parameters(),\n",
    "#                              lr=1e-3)\n",
    "# loss_fn = nn.MSELoss()\n",
    "\n",
    "# # Train the classifier head of the pretrained ViT feature extractor model\n",
    "# pretrained_vit_results = engine.train(model=pretrained_vit,\n",
    "#                                       train_dataloader=train_loader,\n",
    "#                                       test_dataloader=test_loader,\n",
    "#                                       optimizer=optimizer,\n",
    "#                                       loss_fn=loss_fn,\n",
    "#                                       epochs=10,\n",
    "#                                       device=DEVICE)\n",
    "\n",
    "\n",
    "from torch.utils.tensorboard import SummaryWriter\n",
    "writer = SummaryWriter()\n",
    "optimizer = torch.optim.Adam(params=pretrained_vit.parameters(), lr=1e-2)\n",
    "loss_f2 = nn.MSELoss()\n",
    "loss_f1 = nn.L1Loss()\n",
    "\n",
    "N_epochs = 40\n",
    "resizing = transforms.Resize(size=(224,224))\n",
    "epoch_loss = 0\n",
    "epoch_valid_loss = 0\n",
    "for epoch in tqdm.tqdm(range(N_epochs)):\n",
    "    print(f\" previous epoch loss = {epoch_loss}\\n previous epoch valid loss = {epoch_valid_loss}\")\n",
    "    epoch_loss = 0\n",
    "    epoch_valid_loss = 0\n",
    "    # Train loop\n",
    "    for batch in train_loader:\n",
    "        images, labels = batch\n",
    "        images = resizing( torch.unsqueeze(images, 0).permute(1, 0, 2, 3).expand(-1, 3, -1, -1) )\n",
    "        #(B, C, H, W)\n",
    "        #torch.Size([1, 128, 56, 256])    #print(images.shape)    #print(labels.dtype)    #print(images.dtype)\n",
    "        images = images.to(DEVICE)\n",
    "        labels = labels.to(DEVICE)\n",
    "        optimizer.zero_grad()\n",
    "        output = pretrained_vit(images)\n",
    "        loss = 0.5*loss_f1(output, labels) + 0.5*loss_f1(output, labels)\n",
    "        epoch_loss += loss.item()\n",
    "        print(loss)\n",
    "        loss.backward()\n",
    "        optimizer.step()\n",
    "    print(\"validation:\")\n",
    "    with torch.no_grad():\n",
    "        for batch in valid_loader:\n",
    "            images, labels = batch\n",
    "            images = resizing( torch.unsqueeze(images, 0).permute(1, 0, 2, 3).expand(-1, 3, -1, -1) )\n",
    "            images = images.to(DEVICE)\n",
    "            labels = labels.to(DEVICE)\n",
    "            output = pretrained_vit(images)\n",
    "            loss = 0.5*loss_f1(output, labels) + 0.5*loss_f1(output, labels)\n",
    "            epoch_valid_loss += loss.item()\n",
    "            print(loss)\n",
    "    IPython.display.clear_output(wait=True)\n",
    "    writer.add_scalar(\"Loss/train\", epoch_loss, epoch)\n",
    "    writer.add_scalar(\"Loss/valid\", epoch_valid_loss, epoch)\n",
    "writer.flush()"
   ]
  },
  {
   "cell_type": "code",
   "execution_count": null,
   "metadata": {},
   "outputs": [],
   "source": [
    "N=5\n",
    "#img, label = next(iter(train_loader))\n",
    "#img, label = next(iter(test_loader))\n",
    "img, label = next(iter(test_loader))\n",
    "plt.imshow(img[N])\n",
    "plt.show()\n",
    "for a in label[N]:\n",
    "    #print(a, end=\"\")\n",
    "    if a == 0:\n",
    "        print(\" \", end=\"\")\n",
    "    else:\n",
    "        print(chr(int(a*104/4+96)), end=\"\")\n",
    "    #print(float(a))\n",
    "print(\"\\n\")\n",
    "#4 * (ord(char) - 96)"
   ]
  },
  {
   "cell_type": "code",
   "execution_count": null,
   "metadata": {},
   "outputs": [],
   "source": [
    "print(label[N])\n",
    "with torch.no_grad():\n",
    "    prediction = resnet( resizing( torch.unsqueeze(torch.unsqueeze(img[N], 0), 0).permute(1, 0, 2, 3).expand(-1, 3, -1, -1) ).to(DEVICE) )\n",
    "prediction"
   ]
  },
  {
   "cell_type": "code",
   "execution_count": null,
   "metadata": {},
   "outputs": [],
   "source": [
    "from going_modular.going_modular import engine"
   ]
  }
 ],
 "metadata": {
  "colab": {
   "authorship_tag": "ABX9TyPxN/f5G0z3IM20k6/VYoPJ",
   "provenance": []
  },
  "kernelspec": {
   "display_name": "Python (NMA)",
   "language": "python",
   "name": "nma_python_ker"
  },
  "language_info": {
   "codemirror_mode": {
    "name": "ipython",
    "version": 3
   },
   "file_extension": ".py",
   "mimetype": "text/x-python",
   "name": "python",
   "nbconvert_exporter": "python",
   "pygments_lexer": "ipython3",
   "version": "3.10.12"
  }
 },
 "nbformat": 4,
 "nbformat_minor": 4
}
