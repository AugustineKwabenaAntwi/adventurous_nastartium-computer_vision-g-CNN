{
  "cells": [
    {
      "cell_type": "code",
      "execution_count": null,
      "metadata": {
        "id": "RI8R1Y99JM-h"
      },
      "outputs": [],
      "source": [
        "import torch\n",
        "from torchvision import transforms\n",
        "\n",
        "def adjust_contrast(image):\n",
        "    \"\"\"\n",
        "    Adjust the contrast of an image.\n",
        "\n",
        "    Parameters:\n",
        "    - image: A torch tensor: image (C, H, W).\n",
        "    - factor: the factor to adjust the contrast.\"\"\"\n",
        "\n",
        "    factor = random.uniform(0.1, 2.0)\n",
        "\n",
        "    # Transforming to adjust contrast\n",
        "    transform = transforms.Compose([\n",
        "        transforms.ToPILImage(),\n",
        "        transforms.Lambda(lambda img: transforms.functional.adjust_contrast(img, factor)),\n",
        "        transforms.ToTensor()\n",
        "    ])\n",
        "\n",
        "    adjusted_image = transform(image) #<-- Applying the transform (contrast)\n",
        "\n",
        "    return adjusted_image\n"
      ]
    }
  ],
  "metadata": {
    "colab": {
      "provenance": [],
      "toc_visible": true
    },
    "kernelspec": {
      "display_name": "Python 3",
      "name": "python3"
    },
    "language_info": {
      "name": "python"
    }
  },
  "nbformat": 4,
  "nbformat_minor": 0
}
