{
  "nbformat": 4,
  "nbformat_minor": 0,
  "metadata": {
    "colab": {
      "provenance": []
    },
    "kernelspec": {
      "name": "python3",
      "display_name": "Python 3"
    },
    "language_info": {
      "name": "python"
    }
  },
  "cells": [
    {
      "cell_type": "markdown",
      "source": [
        "# **add salt & pepper noise**(each of them you want)"
      ],
      "metadata": {
        "id": "odyia10QkeuF"
      }
    },
    {
      "cell_type": "markdown",
      "source": [],
      "metadata": {
        "id": "CxJMECDFkemH"
      }
    },
    {
      "cell_type": "code",
      "source": [
        "import cv2\n",
        "\n",
        "# Read image\n",
        "img = cv2.imread('/content/images _text.png')"
      ],
      "metadata": {
        "id": "vUTs2TTlksVl"
      },
      "execution_count": null,
      "outputs": []
    },
    {
      "cell_type": "markdown",
      "source": [
        "**salt and pepper noise**"
      ],
      "metadata": {
        "id": "Clrr14YCk2Wb"
      }
    },
    {
      "cell_type": "markdown",
      "source": [],
      "metadata": {
        "id": "0W2Nv663k2Qx"
      }
    },
    {
      "cell_type": "code",
      "source": [
        "import random\n",
        "import cv2\n",
        "\n",
        "def add_noise(image):\n",
        "\n",
        "\n",
        "\trow , col,_ = image.shape\n",
        "\n",
        "\t# Randomly pick some pixels in the\n",
        "\t# image for coloring them white\n",
        "\t# Pick a random number between 300 and 10000\n",
        "\tnumber_of_pixels = random.randint(300, 10000)\n",
        "\tfor i in range(number_of_pixels):\n",
        "\n",
        "\t\t# Pick a random y coordinate\n",
        "\t\ty_coord=random.randint(0, row - 1)\n",
        "\n",
        "\t\t# Pick a random x coordinate\n",
        "\t\tx_coord=random.randint(0, col - 1)\n",
        "\n",
        "\t\t# Color that pixel to white\n",
        "\t\timage[y_coord][x_coord] = 255\n",
        "\n",
        "\n",
        "\tnumber_of_pixels = random.randint(300 , 10000)\n",
        "\tfor i in range(number_of_pixels):\n",
        "\n",
        "\n",
        "\t\ty_coord=random.randint(0, row - 1)\n",
        "\n",
        "\t\tx_coord=random.randint(0, col - 1)\n",
        "\n",
        "\t\timg[y_coord][x_coord] = 0\n",
        "\n",
        "\treturn image\n",
        "\n",
        "# salt-and-pepper noise can\n",
        "# be applied only to grayscale images\n",
        "\n",
        "#Storing the image\n",
        "noisy_img_saltpepper=add_noise(img)\n",
        "# cv2.imwrite('salt-and-pepper-lena.jpg',\n",
        "# \t\t\tadd_noise(img))\n"
      ],
      "metadata": {
        "id": "23qthhR3Qabq",
        "colab": {
          "base_uri": "https://localhost:8080/"
        },
        "outputId": "a706f1b5-95ce-4696-a23e-8ff2692438e6"
      },
      "execution_count": null,
      "outputs": [
        {
          "output_type": "execute_result",
          "data": {
            "text/plain": [
              "True"
            ]
          },
          "metadata": {},
          "execution_count": 86
        }
      ]
    },
    {
      "cell_type": "markdown",
      "source": [
        "**just pepper noise**"
      ],
      "metadata": {
        "id": "YmGsqR0hlRRo"
      }
    },
    {
      "cell_type": "code",
      "source": [
        "import cv2\n",
        "\n",
        "# Read image\n",
        "img2 = cv2.imread('/content/images _text.png')"
      ],
      "metadata": {
        "id": "61vpQsSTlQm6"
      },
      "execution_count": null,
      "outputs": []
    },
    {
      "cell_type": "code",
      "source": [
        "import random\n",
        "\n",
        "def add_noise(image):\n",
        "\n",
        "\trow , col,_ = image.shape\n",
        "\n",
        "\t# Randomly pick some pixels in\n",
        "\t# the image for coloring them black\n",
        "\t# Pick a random number between 300 and 10000\n",
        "\tnumber_of_pixels = random.randint(300 , 10000)\n",
        "\tfor i in range(number_of_pixels):\n",
        "\n",
        "\t\t# Pick a random y coordinate\n",
        "\t\ty_coord=random.randint(0, row - 1)\n",
        "\n",
        "\t\t# Pick a random x coordinate\n",
        "\t\tx_coord=random.randint(0, col - 1)\n",
        "\n",
        "\t\t# Color that pixel to black\n",
        "\t\timage[y_coord][x_coord] = 0\n",
        "\n",
        "\treturn image\n",
        "\n",
        "noisy_img_pepper=add_noise(img2)\n",
        "\n"
      ],
      "metadata": {
        "id": "7agq6tROGge4"
      },
      "execution_count": null,
      "outputs": []
    },
    {
      "cell_type": "markdown",
      "source": [
        "**white noise(salt noise)**"
      ],
      "metadata": {
        "id": "qyarz_ljmATG"
      }
    },
    {
      "cell_type": "markdown",
      "source": [],
      "metadata": {
        "id": "qCeP55vml2L6"
      }
    },
    {
      "cell_type": "code",
      "source": [
        "import cv2\n",
        "# Read image\n",
        "img3 = cv2.imread('/content/images _text.png')"
      ],
      "metadata": {
        "id": "Bhxuu2P-mGIV"
      },
      "execution_count": 21,
      "outputs": []
    },
    {
      "cell_type": "code",
      "source": [
        "import random\n",
        "import cv2\n",
        "\n",
        "def add_noise(image):\n",
        "\n",
        "\trow , col,_ = image.shape\n",
        "\n",
        "\tnumber_of_pixels = random.randint(300, 50000) # you can change it if you want\n",
        "\tfor i in range(number_of_pixels):\n",
        "\n",
        "\t\t# Pick a random y coordinate\n",
        "\t\ty_coord=random.randint(0, row - 1)\n",
        "\n",
        "\t\t# Pick a random x coordinate\n",
        "\t\tx_coord=random.randint(0, col - 1)\n",
        "\n",
        "\t\t# Color that pixel to white\n",
        "\t\timage[y_coord][x_coord] = 255\n",
        "\n",
        "\treturn image\n",
        "\n",
        "noisy_img_salt=add_noise(img3)\n",
        "\n"
      ],
      "metadata": {
        "id": "aaaFO5-ZGgU_"
      },
      "execution_count": null,
      "outputs": []
    },
    {
      "cell_type": "code",
      "source": [
        "import matplotlib.pyplot as plt\n",
        "fig,ax = plt.subplots(3,1,figsize=(10,10))\n",
        "ax[0].imshow(noisy_img_saltpepper)\n",
        "ax[0].set_title(\"salt & pepper noise\")\n",
        "\n",
        "ax[1].imshow(noisy_img_pepper)\n",
        "ax[1].set_title(\"pepper noise\")\n",
        "\n",
        "ax[2].imshow(noisy_img_salt)\n",
        "ax[2].set_title(\"salt noise\")"
      ],
      "metadata": {
        "id": "o3Bire3smhDb"
      },
      "execution_count": null,
      "outputs": []
    },
    {
      "cell_type": "code",
      "source": [],
      "metadata": {
        "id": "edogD7tue5uk"
      },
      "execution_count": null,
      "outputs": []
    },
    {
      "cell_type": "code",
      "source": [],
      "metadata": {
        "id": "uAwfkW2ifm1n"
      },
      "execution_count": null,
      "outputs": []
    },
    {
      "cell_type": "code",
      "source": [
        "import cv2\n",
        "# Read image\n",
        "img = cv2.imread('/content/images _text.png')"
      ],
      "metadata": {
        "id": "BIL4JPkUhDZa"
      },
      "execution_count": 75,
      "outputs": []
    },
    {
      "cell_type": "code",
      "source": [
        "import random\n",
        "import numpy as np\n",
        "from PIL import Image, ImageEnhance\n",
        "\n",
        "def color_shift(image):\n",
        "\n",
        "  # Convert PIL Image to NumPy array\n",
        "  img = np.array(image)\n",
        "\n",
        "  # Get dimensions\n",
        "  h, w, c = img.shape\n",
        "\n",
        "  # Randomly adjust hue, saturation and value\n",
        "  rand_h = random.uniform(-0.2, 0.2)\n",
        "  rand_s = random.uniform(0.8, 1.2)\n",
        "  rand_v = random.uniform(0.8, 1.2)\n",
        "\n",
        "  # Construct color shifting matrix\n",
        "  cs_matrix = np.array([[rand_h, .2, 0.4],\n",
        "                        [0, rand_s, .6],\n",
        "                        [0.7, 0, rand_v]])\n",
        "\n",
        "  # Convert to integer data type and clip values\n",
        "  cs_matrix = np.clip(cs_matrix.astype(int), 0, 255)\n",
        "\n",
        "  # Apply color shifting matrix\n",
        "  shifted = np.apply_along_axis(lambda a: cs_matrix.dot(a), 2, img)\n",
        "\n",
        "  # Convert back to PIL Image and return\n",
        "  return Image.fromarray(shifted.astype(np.uint8))"
      ],
      "metadata": {
        "id": "OoDio9GcgLnn"
      },
      "execution_count": 76,
      "outputs": []
    },
    {
      "cell_type": "code",
      "source": [
        "colorshifted_img=color_shift(img)"
      ],
      "metadata": {
        "id": "4y8WS2GNgTm1"
      },
      "execution_count": 77,
      "outputs": []
    },
    {
      "cell_type": "code",
      "source": [
        "plt.imshow(colorshifted_img)"
      ],
      "metadata": {
        "colab": {
          "base_uri": "https://localhost:8080/",
          "height": 394
        },
        "id": "ZLdNI5owgfuy",
        "outputId": "98ee0b4c-a850-428f-9373-d0d978715c07"
      },
      "execution_count": 78,
      "outputs": [
        {
          "output_type": "execute_result",
          "data": {
            "text/plain": [
              "<matplotlib.image.AxesImage at 0x78d038b66470>"
            ]
          },
          "metadata": {},
          "execution_count": 78
        },
        {
          "output_type": "display_data",
          "data": {
            "text/plain": [
              "<Figure size 640x480 with 1 Axes>"
            ],
            "image/png": "[encoded data removed]"
          },
          "metadata": {}
        }
      ]
    },
    {
      "cell_type": "markdown",
      "source": [
        "\n",
        "\n",
        "---\n",
        "\n",
        "\n",
        "\n",
        "---\n",
        "\n",
        "\n",
        "\n",
        "---\n",
        "\n",
        "\n",
        "\n",
        "---\n",
        "\n",
        "\n",
        "\n",
        "---\n",
        "\n",
        "\n",
        "\n",
        "---\n",
        "\n"
      ],
      "metadata": {
        "id": "_jruG2_ii-qH"
      }
    },
    {
      "cell_type": "markdown",
      "source": [
        "# **transform**"
      ],
      "metadata": {
        "id": "09bH4wy-jNkv"
      }
    },
    {
      "cell_type": "markdown",
      "source": [
        "**colorshift**"
      ],
      "metadata": {
        "id": "Q2qjQN8Ni5u8"
      }
    },
    {
      "cell_type": "code",
      "source": [
        "import torchvision.transforms as T\n",
        "from torchvision.transforms import Lambda\n",
        "import random\n",
        "import numpy as np\n",
        "from PIL import Image, ImageEnhance\n",
        "\n",
        "def color_shift(image):\n",
        "\n",
        "  # Convert PIL Image to NumPy array\n",
        "  img = np.array(image)\n",
        "\n",
        "  # Get dimensions\n",
        "  h, w, c = img.shape\n",
        "\n",
        "  # Randomly adjust hue, saturation and value\n",
        "  rand_h = random.uniform(-0.2, 0.2)\n",
        "  rand_s = random.uniform(0.8, 1.2)\n",
        "  rand_v = random.uniform(0.8, 1.2)\n",
        "\n",
        "  # Construct color shifting matrix\n",
        "  cs_matrix = np.array([[rand_h, .2, 0.4],\n",
        "                        [0, rand_s, .6],\n",
        "                        [0.7, 0, rand_v]])\n",
        "\n",
        "  # Convert to integer data type and clip values\n",
        "  cs_matrix = np.clip(cs_matrix.astype(int), 0, 255)\n",
        "\n",
        "  # Apply color shifting matrix\n",
        "  shifted = np.apply_along_axis(lambda a: cs_matrix.dot(a), 2, img)\n",
        "\n",
        "  # Convert back to PIL Image and return\n",
        "  return Image.fromarray(shifted.astype(np.uint8))\n",
        "  transform_colorshift = Lambda(lambda img: color_shift(img))"
      ],
      "metadata": {
        "id": "T4dZAJ6ZiIEG"
      },
      "execution_count": 80,
      "outputs": []
    },
    {
      "cell_type": "markdown",
      "source": [
        "**pepper noise**"
      ],
      "metadata": {
        "id": "jcCoqdrUisZh"
      }
    },
    {
      "cell_type": "code",
      "source": [
        "import torchvision.transforms as T\n",
        "from torchvision.transforms import Lambda\n",
        "import random\n",
        "\n",
        "def add_noise(image):\n",
        "\n",
        "\trow , col,_ = image.shape\n",
        "\n",
        "\t# Randomly pick some pixels\n",
        "\tnumber_of_pixels = random.randint(300 , 10000)\n",
        "\tfor i in range(number_of_pixels):\n",
        "\n",
        "\t\ty_coord=random.randint(0, row - 1)\n",
        "\t\tx_coord=random.randint(0, col - 1)\n",
        "\n",
        "\t\timage[y_coord][x_coord] = 0\n",
        "\n",
        "\treturn image\n",
        "\n",
        "transform_add_peppernoise = Lambda(lambda img3: add_noise(img3))"
      ],
      "metadata": {
        "id": "l-aIbNRge6I0"
      },
      "execution_count": 81,
      "outputs": []
    }
  ]
}