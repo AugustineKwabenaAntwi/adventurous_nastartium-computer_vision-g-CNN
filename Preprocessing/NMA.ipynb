{
  "nbformat": 4,
  "nbformat_minor": 0,
  "metadata": {
    "colab": {
      "provenance": []
    },
    "kernelspec": {
      "name": "python3",
      "display_name": "Python 3"
    },
    "language_info": {
      "name": "python"
    }
  },
  "cells": [
    {
      "cell_type": "code",
      "execution_count": null,
      "metadata": {
        "id": "oKcKJxktzpOK"
      },
      "outputs": [],
      "source": [
        "#binarization image\n",
        "#Otsu\n",
        "ret, imgf = cv2.threshold(img, 0, 255,cv2.THRESH_BINARY,cv2.THRESH_OTSU)\n",
        "#adaptive tresholding\n",
        "imgf = cv2.adaptiveThreshold(img,255,cv2.ADAPTIVE_THRESH_GAUSSIAN_C,cv2.THRESH_BINARY,11,2)"
      ]
    },
    {
      "cell_type": "code",
      "source": [
        "#skewness correction\n",
        "import sys\n",
        "import matplotlib.pyplot as plt\n",
        "import numpy as np\n",
        "from PIL import Image as im\n",
        "from scipy.ndimage import interpolation as inter\n",
        "input_file = sys.argv[1]\n",
        "img = im.open(input_file)\n",
        "\n",
        "# convert to binary\n",
        "wd, ht = img.size\n",
        "pix = np.array(img.convert('1').getdata(), np.uint8)\n",
        "bin_img = 1 - (pix.reshape((ht, wd)) / 255.0)\n",
        "plt.imshow(bin_img, cmap='gray')\n",
        "plt.savefig('binary.png')\n",
        "def find_score(arr, angle):\n",
        "   data = inter.rotate(arr, angle, reshape=False, order=0)\n",
        "   hist = np.sum(data, axis=1)\n",
        "   score = np.sum((hist[1:] - hist[:-1]) ** 2)\n",
        "   return hist, score\n",
        "\n",
        "delta = 1\n",
        "limit = 5\n",
        "angles = np.arange(-limit, limit+delta, delta)\n",
        "scores = []\n",
        "for angle in angles:\n",
        "   hist, score = find_score(bin_img, angle)\n",
        "   scores.append(score)\n",
        "best_score = max(scores)\n",
        "best_angle = angles[scores.index(best_score)]\n",
        "print('Best angle: {}'.formate(best_angle))\n",
        "\n",
        "# correct skew\n",
        "data = inter.rotate(bin_img, best_angle, reshape=False, order=0)\n",
        "img = im.fromarray((255*data).astype(\"uint8\")).convert(\"RGB\")\n",
        "img.save('skew_corrected.png')"
      ],
      "metadata": {
        "id": "r1wn2M8L0K9S"
      },
      "execution_count": null,
      "outputs": []
    },
    {
      "cell_type": "code",
      "source": [
        "#noise removal\n",
        "import numpy as np\n",
        "import cv2\n",
        "from matplotlib import pyplot as plt\n",
        "# Reading image from folder where it is stored\n",
        "img = cv2.imread('bear.png')\n",
        "# denoising of image saving it into dst image\n",
        "dst = cv2.fastNlMeansDenoisingColored(img, None, 10, 10, 7, 15)\n",
        "# Plotting of source and destination image\n",
        "plt.subplot(121), plt.imshow(img)\n",
        "plt.subplot(122), plt.imshow(dst)\n",
        "plt.show()"
      ],
      "metadata": {
        "id": "wH2s_1cQ0t3j"
      },
      "execution_count": null,
      "outputs": []
    },
    {
      "cell_type": "code",
      "source": [
        "#thining\n",
        "import cv2\n",
        "import numpy as np\n",
        "img = cv2.imread('j.png',0)\n",
        "kernel = np.ones((5,5),np.uint8)\n",
        "erosion = cv2.erode(img,kernel,iterations = 1)"
      ],
      "metadata": {
        "id": "GPed3PtD0139"
      },
      "execution_count": null,
      "outputs": []
    },
    {
      "cell_type": "markdown",
      "source": [
        "**functions**"
      ],
      "metadata": {
        "id": "TRwzjA-i06ZY"
      }
    },
    {
      "cell_type": "code",
      "source": [
        "#gray-scale conversion\n",
        "import cv2\n",
        "import numpy as np\n",
        "\n",
        "def convert_to_grayscale(image):\n",
        "    return cv2.cvtColor(image, cv2.COLOR_BGR2GRAY)"
      ],
      "metadata": {
        "id": "ZRV6s8sy0--N"
      },
      "execution_count": null,
      "outputs": []
    },
    {
      "cell_type": "code",
      "source": [
        "#denoising\n",
        "def denoise_image(image):\n",
        "    return cv2.GaussianBlur(image, (5, 5), 0)"
      ],
      "metadata": {
        "id": "zw96Z8s91RsJ"
      },
      "execution_count": null,
      "outputs": []
    },
    {
      "cell_type": "code",
      "source": [
        "#thresholding\n",
        "def threshold_image(image):\n",
        "    _, thresh = cv2.threshold(image, 128, 255, cv2.THRESH_BINARY | cv2.THRESH_OTSU)\n",
        "    return thresh"
      ],
      "metadata": {
        "id": "CbXXhhiJ1XNe"
      },
      "execution_count": null,
      "outputs": []
    },
    {
      "cell_type": "code",
      "source": [
        "#morphological transformation\n",
        "def morphological_transform(image):\n",
        "    kernel = np.ones((3, 3), np.uint8)\n",
        "    eroded = cv2.erode(image, kernel, iterations=1)\n",
        "    dilated = cv2.dilate(eroded, kernel, iterations=1)\n",
        "    return dilated\n",
        "\n",
        "''' number of iterations and also kernel has direct effect of transform '''"
      ],
      "metadata": {
        "id": "TdIfyJBE1dtp"
      },
      "execution_count": null,
      "outputs": []
    },
    {
      "cell_type": "code",
      "source": [
        "#contour detection\n",
        "def detect_contours(image):\n",
        "    contours, _ = cv2.findContours(image, cv2.RETR_EXTERNAL, cv2.CHAIN_APPROX_SIMPLE)\n",
        "    cv2.drawContours(image, contours, -1, (255, 255, 255), 1)\n",
        "    return image"
      ],
      "metadata": {
        "id": "nGSdf3KF13FX"
      },
      "execution_count": null,
      "outputs": []
    },
    {
      "cell_type": "code",
      "source": [
        "#deskewing\n",
        "def deskew_image(image):\n",
        "    coords = np.column_stack(np.where(image > 0))\n",
        "    angle = cv2.minAreaRect(coords)[-1]\n",
        "    if angle < -45:\n",
        "        angle = -(90 + angle)\n",
        "    else:\n",
        "        angle = -angle\n",
        "    (h, w) = image.shape[:2]\n",
        "    center = (w // 2, h // 2)\n",
        "    M = cv2.getRotationMatrix2D(center, angle, 1.0)\n",
        "    rotated = cv2.warpAffine(image, M, (w, h), flags=cv2.INTER_CUBIC, borderMode=cv2.BORDER_REPLICATE)\n",
        "    return rotated"
      ],
      "metadata": {
        "id": "Lx5Lq6q_2M8P"
      },
      "execution_count": null,
      "outputs": []
    },
    {
      "cell_type": "code",
      "source": [
        "#assembly\n",
        "import cv2\n",
        "\n",
        "# Load your corrupted image\n",
        "corrupted_image = cv2.imread('image_path')\n",
        "\n",
        "# Apply preprocessing steps\n",
        "gray_image = convert_to_grayscale(corrupted_image)\n",
        "denoised_image = denoise_image(gray_image)\n",
        "thresholded_image = threshold_image(denoised_image)\n",
        "morph_image = morphological_transform(thresholded_image)\n",
        "contour_image = detect_contours(morph_image)\n",
        "deskewed_image = deskew_image(contour_image)\n",
        "final_image = resize_image(deskewed_image)\n",
        "\n",
        "# Save or display the final preprocessed image\n",
        "cv2.imwrite('preprocessed_image.png', final_image)\n"
      ],
      "metadata": {
        "id": "Xh19uXvc2VhM"
      },
      "execution_count": null,
      "outputs": []
    }
  ]
}